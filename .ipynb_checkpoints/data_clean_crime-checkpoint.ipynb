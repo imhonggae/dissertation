{
 "cells": [
  {
   "cell_type": "code",
   "execution_count": 81,
   "id": "7137490d-434c-442c-922c-c4060fa20343",
   "metadata": {},
   "outputs": [],
   "source": [
    "import pandas as pd"
   ]
  },
  {
   "cell_type": "code",
   "execution_count": 82,
   "id": "c7c40fee-ab38-4281-be5e-c81b1c8792be",
   "metadata": {},
   "outputs": [
    {
     "name": "stdout",
     "output_type": "stream",
     "text": [
      "   LSOA Code  2011_summary  2021_summary\n",
      "0  E01000006            96            94\n",
      "1  E01000007           352           507\n",
      "2  E01000008           161           224\n",
      "3  E01000009           308           298\n",
      "4  E01000011           107           111\n"
     ]
    }
   ],
   "source": [
    "data = pd.read_csv('data/MPS LSOA Level Crime.csv')\n",
    "columns_select = ['LSOA Code', '201101', '201102', '201103', '201104', '201105', '201106', '201107', '201108', '201109', '201110', '201111', '201112',\n",
    "                  '202101', '202102', '202103', '202104', '202105', '202106', '202107', '202108', '202109', '202110', '202111', '202112']\n",
    "data = data[columns_select]\n",
    "data = data.groupby('LSOA Code').sum().reset_index()\n",
    "data['2011_summary'] = data[['201101', '201102', '201103', '201104', '201105', '201106', '201107', '201108', '201109', '201110', '201111', '201112']].sum(axis=1)\n",
    "data['2021_summary'] = data[['202101', '202102', '202103', '202104', '202105', '202106', '202107', '202108', '202109', '202110', '202111', '202112']].sum(axis=1)\n",
    "data = data[['LSOA Code', '2011_summary', '2021_summary']]\n",
    "print(data.head())"
   ]
  },
  {
   "cell_type": "code",
   "execution_count": 83,
   "id": "4f20a125-f91e-4437-b478-dd11aeba84e9",
   "metadata": {},
   "outputs": [
    {
     "name": "stdout",
     "output_type": "stream",
     "text": [
      "  LSOA 2021 Code  Total\n",
      "0      E01011949  1,854\n",
      "1      E01011950  1,037\n",
      "2      E01011951  1,203\n",
      "3      E01011952  1,610\n",
      "4      E01011953  1,970\n"
     ]
    },
    {
     "name": "stderr",
     "output_type": "stream",
     "text": [
      "C:\\Users\\13908\\AppData\\Local\\Temp\\ipykernel_6704\\3831864061.py:1: DtypeWarning: Columns (24,115) have mixed types. Specify dtype option on import or set low_memory=False.\n",
      "  data_2021_population = pd.read_csv('data/2021-lsoa-population.csv')\n"
     ]
    }
   ],
   "source": [
    "data_2021_population = pd.read_csv('data/2021-lsoa-population.csv')\n",
    "data_2021_population = data_2021_population[['LSOA 2021 Code', 'Total']]\n",
    "print(data_2021_population.head())"
   ]
  },
  {
   "cell_type": "code",
   "execution_count": 84,
   "id": "1f21cdb5-6d55-4c11-9448-a8a3ce396182",
   "metadata": {},
   "outputs": [
    {
     "name": "stdout",
     "output_type": "stream",
     "text": [
      "      LSOA Code  2011_summary  2021_summary Population_2021\n",
      "0     E01000006            96            94           1,829\n",
      "1     E01000007           352           507           2,841\n",
      "2     E01000008           161           224           1,747\n",
      "3     E01000009           308           298           1,795\n",
      "4     E01000011           107           111           1,666\n",
      "...         ...           ...           ...             ...\n",
      "4983  E01035718          1355          1090           2,659\n",
      "4984  E01035719           103            55           1,269\n",
      "4985  E01035720            78            92           1,229\n",
      "4986  E01035721           779           345           2,336\n",
      "4987  E01035722           106           115           2,044\n",
      "\n",
      "[4988 rows x 4 columns]\n"
     ]
    }
   ],
   "source": [
    "merged_data = pd.merge(data, data_2021_population, left_on='LSOA Code', right_on='LSOA 2021 Code', how='left')\n",
    "merged_data = merged_data.drop(columns=['LSOA 2021 Code'])\n",
    "merged_data = merged_data.rename(columns={'Total':'Population_2021'})\n",
    "print(merged_data)"
   ]
  },
  {
   "cell_type": "code",
   "execution_count": 85,
   "id": "9b955f90-b9f1-4561-9aad-ba9cf093ee6a",
   "metadata": {},
   "outputs": [
    {
     "name": "stdout",
     "output_type": "stream",
     "text": [
      "LSOA Code          0\n",
      "2011_summary       0\n",
      "2021_summary       0\n",
      "Population_2021    0\n",
      "dtype: int64\n"
     ]
    }
   ],
   "source": [
    "# isnull?\n",
    "print(merged_data.isnull().sum())"
   ]
  },
  {
   "cell_type": "code",
   "execution_count": 86,
   "id": "494beb0b-2fbe-42a4-bc3b-ceaec59c3c48",
   "metadata": {},
   "outputs": [
    {
     "name": "stdout",
     "output_type": "stream",
     "text": [
      "  Area Codes All Ages\n",
      "0  E06000047  512,994\n",
      "1  E01020634    1,568\n",
      "2  E01020635    1,377\n",
      "3  E01020636    1,694\n",
      "4  E01020654    1,744\n"
     ]
    }
   ],
   "source": [
    "data_2011_population = pd.read_csv('data/2011-lsoa-population.csv')\n",
    "data_2011_population = data_2011_population[['Area Codes', 'All Ages']]\n",
    "print(data_2011_population.head())"
   ]
  },
  {
   "cell_type": "code",
   "execution_count": 87,
   "id": "00ed562f-877b-4859-9792-50e3e067416e",
   "metadata": {},
   "outputs": [
    {
     "name": "stdout",
     "output_type": "stream",
     "text": [
      "      LSOA Code  2011_summary  2021_summary Population_2021 Population_2011\n",
      "0     E01000006            96            94           1,829           1,731\n",
      "1     E01000007           352           507           2,841           1,417\n",
      "2     E01000008           161           224           1,747           1,569\n",
      "3     E01000009           308           298           1,795           1,798\n",
      "4     E01000011           107           111           1,666           1,655\n",
      "...         ...           ...           ...             ...             ...\n",
      "4983  E01035718          1355          1090           2,659             NaN\n",
      "4984  E01035719           103            55           1,269             NaN\n",
      "4985  E01035720            78            92           1,229             NaN\n",
      "4986  E01035721           779           345           2,336             NaN\n",
      "4987  E01035722           106           115           2,044             NaN\n",
      "\n",
      "[4988 rows x 5 columns]\n"
     ]
    }
   ],
   "source": [
    "merged_data2 = pd.merge(merged_data, data_2011_population, left_on='LSOA Code', right_on='Area Codes', how='left')\n",
    "merged_data2 = merged_data2.drop(columns=['Area Codes'])\n",
    "merged_data2 = merged_data2.rename(columns={'All Ages':'Population_2011'})\n",
    "print(merged_data2)"
   ]
  },
  {
   "cell_type": "code",
   "execution_count": 88,
   "id": "efc23f4b-01e2-482d-ae37-1354e5a9149a",
   "metadata": {},
   "outputs": [
    {
     "name": "stdout",
     "output_type": "stream",
     "text": [
      "LSOA Code            0\n",
      "2011_summary         0\n",
      "2021_summary         0\n",
      "Population_2021      0\n",
      "Population_2011    335\n",
      "dtype: int64\n"
     ]
    }
   ],
   "source": [
    "# isnull?\n",
    "print(merged_data2.isnull().sum())"
   ]
  },
  {
   "cell_type": "code",
   "execution_count": 92,
   "id": "b68bbb30-676d-41cf-a428-4e57eea6ad85",
   "metadata": {},
   "outputs": [
    {
     "name": "stdout",
     "output_type": "stream",
     "text": [
      "      LSOA Code  2011_summary  2021_summary Population_2021 Population_2011\n",
      "0     E01000006            96            94           1,829           1,731\n",
      "1     E01000007           352           507           2,841           1,417\n",
      "2     E01000008           161           224           1,747           1,569\n",
      "3     E01000009           308           298           1,795           1,798\n",
      "4     E01000011           107           111           1,666           1,655\n",
      "...         ...           ...           ...             ...             ...\n",
      "4983  E01035718          1355          1090           2,659              -1\n",
      "4984  E01035719           103            55           1,269              -1\n",
      "4985  E01035720            78            92           1,229              -1\n",
      "4986  E01035721           779           345           2,336              -1\n",
      "4987  E01035722           106           115           2,044              -1\n",
      "\n",
      "[4988 rows x 5 columns]\n"
     ]
    }
   ],
   "source": [
    "df = merged_data2.fillna(-1)\n",
    "print(df)"
   ]
  },
  {
   "cell_type": "code",
   "execution_count": 95,
   "id": "dbcbfca5-31ba-4b8e-8b68-d14fd4884ce5",
   "metadata": {},
   "outputs": [
    {
     "name": "stdout",
     "output_type": "stream",
     "text": [
      "      LSOA Code  2011_summary  2021_summary  Population_2021  Population_2011  \\\n",
      "0     E01000006            96            94             1829             1731   \n",
      "1     E01000007           352           507             2841             1417   \n",
      "2     E01000008           161           224             1747             1569   \n",
      "3     E01000009           308           298             1795             1798   \n",
      "4     E01000011           107           111             1666             1655   \n",
      "...         ...           ...           ...              ...              ...   \n",
      "4983  E01035718          1355          1090             2659               -1   \n",
      "4984  E01035719           103            55             1269               -1   \n",
      "4985  E01035720            78            92             1229               -1   \n",
      "4986  E01035721           779           345             2336               -1   \n",
      "4987  E01035722           106           115             2044               -1   \n",
      "\n",
      "      crime_2011  crime_2021  \n",
      "0       0.055459    0.051394  \n",
      "1       0.248412    0.178458  \n",
      "2       0.102613    0.128220  \n",
      "3       0.171301    0.166017  \n",
      "4       0.064653    0.066627  \n",
      "...          ...         ...  \n",
      "4983   -1.000000    0.409929  \n",
      "4984   -1.000000    0.043341  \n",
      "4985   -1.000000    0.074858  \n",
      "4986   -1.000000    0.147688  \n",
      "4987   -1.000000    0.056262  \n",
      "\n",
      "[4988 rows x 7 columns]\n"
     ]
    }
   ],
   "source": [
    "df['Population_2021'] = df['Population_2021'].replace(',', '', regex=True)\n",
    "df['Population_2011'] = df['Population_2011'].replace(',', '', regex=True)\n",
    "df['2011_summary'] = df['2011_summary'].replace(',', '', regex=True)\n",
    "df['2021_summary'] = df['2021_summary'].replace(',', '', regex=True)\n",
    "\n",
    "df['Population_2021'] = pd.to_numeric(df['Population_2021'], errors='coerce')\n",
    "df['Population_2011'] = pd.to_numeric(df['Population_2011'], errors='coerce')\n",
    "\n",
    "df['crime_2011'] = df['2011_summary'] / df['Population_2011']\n",
    "df['crime_2021'] = df['2021_summary'] / df['Population_2021']\n",
    "\n",
    "df.loc[df['Population_2011'] == -1, 'crime_2011'] = -1\n",
    "\n",
    "print(df)\n",
    "df.to_csv('data/crime.csv', index=False)"
   ]
  },
  {
   "cell_type": "code",
   "execution_count": null,
   "id": "b1204805-66dc-419d-8e7a-97a0bb9797b1",
   "metadata": {},
   "outputs": [],
   "source": []
  }
 ],
 "metadata": {
  "kernelspec": {
   "display_name": "Python 3 (ipykernel)",
   "language": "python",
   "name": "python3"
  },
  "language_info": {
   "codemirror_mode": {
    "name": "ipython",
    "version": 3
   },
   "file_extension": ".py",
   "mimetype": "text/x-python",
   "name": "python",
   "nbconvert_exporter": "python",
   "pygments_lexer": "ipython3",
   "version": "3.9.0"
  }
 },
 "nbformat": 4,
 "nbformat_minor": 5
}
