{
 "cells": [
  {
   "cell_type": "code",
   "execution_count": 2,
   "id": "4ea4b664-27d0-4ef9-99cc-07c03da59104",
   "metadata": {},
   "outputs": [],
   "source": [
    "import pandas as pd\n",
    "\n",
    "# 读取 CSV 文件\n",
    "ethnic = pd.read_csv('description_data/ethnic.csv')\n",
    "education = pd.read_csv('description_data/education.csv')\n",
    "elderly = pd.read_csv('description_data/elderly.csv')\n",
    "unemployed = pd.read_csv('description_data/unemployed.csv')\n",
    "median_house_price = pd.read_csv('description_data/median_house_price.csv')\n",
    "\n",
    "# 提取 2011 列和 2021 列，并重命名\n",
    "def process_df(df, prefix, key_col='Area'):\n",
    "    df = df[[key_col, '2011', '2021']]\n",
    "    df = df.rename(columns={'2011': f'{prefix}_2011', '2021': f'{prefix}_2021'})\n",
    "    return df\n",
    "\n",
    "# 处理包含 Area 列的数据框\n",
    "ethnic_processed = process_df(ethnic, 'ethnic')\n",
    "education_processed = process_df(education, 'education')\n",
    "elderly_processed = process_df(elderly, 'elderly')\n",
    "\n",
    "# 处理包含 LSOA code 或 LSOA Code 的数据框\n",
    "unemployed_processed = process_df(unemployed.rename(columns={'LSOA code': 'Area'}), 'unemployed', 'Area')\n",
    "median_house_price_processed = process_df(median_house_price.rename(columns={'LSOA Code': 'Area'}), 'median_house_price', 'Area')\n",
    "\n",
    "# 合并所有数据框\n",
    "# 以 ethnic.csv 为主进行合并\n",
    "merged_df = ethnic_processed\n",
    "merged_df = pd.merge(merged_df, education_processed, on='Area', how='left')\n",
    "merged_df = pd.merge(merged_df, elderly_processed, on='Area', how='left')\n",
    "merged_df = pd.merge(merged_df, unemployed_processed, on='Area', how='left')\n",
    "merged_df = pd.merge(merged_df, median_house_price_processed, on='Area', how='left')\n",
    "\n",
    "# 替换缺失值\n",
    "for column in merged_df.columns[1:]:\n",
    "    merged_df[column].fillna(merged_df[column].mean(), inplace=True)\n",
    "\n",
    "# 保存结果到 CSV 文件\n",
    "merged_df.to_csv('analysis_data/indicator.csv', index=False)\n"
   ]
  },
  {
   "cell_type": "code",
   "execution_count": null,
   "id": "5b24e997-6191-4009-b33b-a9c3976c7c2f",
   "metadata": {},
   "outputs": [],
   "source": []
  }
 ],
 "metadata": {
  "kernelspec": {
   "display_name": "Python 3 (ipykernel)",
   "language": "python",
   "name": "python3"
  },
  "language_info": {
   "codemirror_mode": {
    "name": "ipython",
    "version": 3
   },
   "file_extension": ".py",
   "mimetype": "text/x-python",
   "name": "python",
   "nbconvert_exporter": "python",
   "pygments_lexer": "ipython3",
   "version": "3.11.5"
  }
 },
 "nbformat": 4,
 "nbformat_minor": 5
}
